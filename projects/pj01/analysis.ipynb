{
 "metadata": {
  "language_info": {
   "codemirror_mode": {
    "name": "ipython",
    "version": 3
   },
   "file_extension": ".py",
   "mimetype": "text/x-python",
   "name": "python",
   "nbconvert_exporter": "python",
   "pygments_lexer": "ipython3",
   "version": "3.9.1"
  },
  "orig_nbformat": 2,
  "kernelspec": {
   "name": "python3",
   "display_name": "Python 3.9.1 64-bit",
   "metadata": {
    "interpreter": {
     "hash": "8febf991f4635c0ffa043caa005644a7d70b4e874f567c838105fe0d57bdcf34"
    }
   }
  }
 },
 "nbformat": 4,
 "nbformat_minor": 2,
 "cells": [
  {
   "source": [
    "## Hypothesis: I think that if a student is a BA Computer Science major, then their expected course grade in this class is an A."
   ],
   "cell_type": "markdown",
   "metadata": {}
  },
  {
   "source": [
    "Since my Jupyter Notebook kernel is running the entire time I am working on functions in data_utils.py, I will use a special extension to automatically reload any changes I make and save in modules I import. The special conventions in the cell below are turning this feature on."
   ],
   "cell_type": "markdown",
   "metadata": {}
  },
  {
   "cell_type": "code",
   "execution_count": 1,
   "metadata": {},
   "outputs": [],
   "source": [
    "%reload_ext autoreload\n",
    "%autoreload 2"
   ]
  },
  {
   "source": [
    "The constant DATA_DIRECTORY defined below uses the convention of two dots to refer to \"one directory up\", so it is a str that references the data directory relative to this exercise's directory."
   ],
   "cell_type": "markdown",
   "metadata": {}
  },
  {
   "cell_type": "code",
   "execution_count": 2,
   "metadata": {},
   "outputs": [],
   "source": [
    "DATA_DIRECTORY=\"../../data\"\n",
    "DATA_FILE_PATH=f\"{DATA_DIRECTORY}/survey.csv\""
   ]
  },
  {
   "source": [
    "### First, I will read in the csv and convert it to a column-oriented data table."
   ],
   "cell_type": "markdown",
   "metadata": {}
  },
  {
   "cell_type": "code",
   "execution_count": 15,
   "metadata": {},
   "outputs": [],
   "source": [
    "from data_utils import read_csv_rows, columnar\n",
    "\n",
    "data_row: list[dict[str, str]] = read_csv_rows('../../data/survey.csv')\n",
    "column: dict[str, list[str]] = columnar(data_row)"
   ]
  },
  {
   "source": [
    "### Second, I will select just the comp_major and grade columns. Here are the first five rows:"
   ],
   "cell_type": "markdown",
   "metadata": {}
  },
  {
   "cell_type": "code",
   "execution_count": 20,
   "metadata": {},
   "outputs": [
    {
     "output_type": "stream",
     "name": "stdout",
     "text": [
      "{'comp_major': ['No', 'No', 'No', 'No', 'Yes - BS']}\n"
     ]
    }
   ],
   "source": [
    "from data_utils import head, select\n",
    "\n",
    "selected_column: dict[str, list[str]] = select(column, [\"comp_major\"])\n",
    "print(head(selected_column, 5))"
   ]
  },
  {
   "source": [
    "### Next, I will count up the totals of students that either responded \"Yes - BS\" or \"Yes - BA\" to the comp_major question paired with a response of \"A\" to the grade question."
   ],
   "cell_type": "markdown",
   "metadata": {}
  },
  {
   "cell_type": "code",
   "execution_count": 22,
   "metadata": {},
   "outputs": [
    {
     "output_type": "error",
     "ename": "KeyError",
     "evalue": "'Yes - BA'",
     "traceback": [
      "\u001b[1;31m---------------------------------------------------------------------------\u001b[0m",
      "\u001b[1;31mKeyError\u001b[0m                                  Traceback (most recent call last)",
      "\u001b[1;32m<ipython-input-22-ef2fe7a6eda5>\u001b[0m in \u001b[0;36m<module>\u001b[1;34m\u001b[0m\n\u001b[0;32m      2\u001b[0m \u001b[0mcounting\u001b[0m \u001b[1;33m=\u001b[0m \u001b[0mcount\u001b[0m\u001b[1;33m(\u001b[0m\u001b[0mselected_column\u001b[0m\u001b[1;33m[\u001b[0m\u001b[1;34m\"comp_major\"\u001b[0m\u001b[1;33m]\u001b[0m\u001b[1;33m)\u001b[0m\u001b[1;33m\u001b[0m\u001b[1;33m\u001b[0m\u001b[0m\n\u001b[0;32m      3\u001b[0m \u001b[1;33m\u001b[0m\u001b[0m\n\u001b[1;32m----> 4\u001b[1;33m \u001b[0mprint\u001b[0m\u001b[1;33m(\u001b[0m\u001b[1;34mf\"B.A. Computer Science major total is: {counting['Yes - BA']}\"\u001b[0m\u001b[1;33m)\u001b[0m\u001b[1;33m\u001b[0m\u001b[1;33m\u001b[0m\u001b[0m\n\u001b[0m\u001b[0;32m      5\u001b[0m \u001b[0mprint\u001b[0m\u001b[1;33m(\u001b[0m\u001b[1;34mf\"B.S. Computer Science major total is: {counting['Yes - BS']}\"\u001b[0m\u001b[1;33m)\u001b[0m\u001b[1;33m\u001b[0m\u001b[1;33m\u001b[0m\u001b[0m\n\u001b[0;32m      6\u001b[0m \u001b[0mprint\u001b[0m\u001b[1;33m(\u001b[0m\u001b[1;34mf\"Not a Computer Science major total is: {counting['No']}\"\u001b[0m\u001b[1;33m)\u001b[0m\u001b[1;33m\u001b[0m\u001b[1;33m\u001b[0m\u001b[0m\n",
      "\u001b[1;31mKeyError\u001b[0m: 'Yes - BA'"
     ]
    }
   ],
   "source": [
    "from data_utils import count\n",
    "counting = count(selected_column[\"comp_major\"])\n",
    "\n",
    "print(f\"B.A. Computer Science major total is: {counting['Yes - BA']}\")\n",
    "print(f\"B.S. Computer Science major total is: {counting['Yes - BS']}\")\n",
    "print(f\"Not a Computer Science major total is: {counting['No']}\")"
   ]
  },
  {
   "source": [
    "### This is a mask function in order to produce a list of booleans which will continue to help me to determine if a student has an expected grade of A in COMP 110 if they are a B.A. Computer Science Major."
   ],
   "cell_type": "markdown",
   "metadata": {}
  },
  {
   "cell_type": "code",
   "execution_count": 16,
   "metadata": {},
   "outputs": [],
   "source": [
    "def majored(column: list[str], point: float) -> list[bool]:\n",
    "    answer: list[bool] = []\n",
    "    for thing in column:\n",
    "        if thing != point:\n",
    "            answer.append(True)\n",
    "        else:\n",
    "            answer.append(False)\n",
    "    return answer"
   ]
  },
  {
   "source": [
    "### This function filters the data obtained from the previous mask function."
   ],
   "cell_type": "markdown",
   "metadata": {}
  },
  {
   "cell_type": "code",
   "execution_count": 17,
   "metadata": {},
   "outputs": [],
   "source": [
    "def masked(col: list[float], mask: list[bool]) -> list[float]:\n",
    "    answer: list[float] = []\n",
    "    for i in range(len(mask)):\n",
    "        if mask[i]:\n",
    "            answer.append(col[i])\n",
    "    return answer"
   ]
  },
  {
   "source": [
    "## CONCLUSION\n",
    "In conclusion, my data analysis shows that my hypothesis was correct because there is much correlation shown between being a B.A. Computer Science Major and having an expected grade of an A in COMP 110."
   ],
   "cell_type": "markdown",
   "metadata": {}
  }
 ]
}